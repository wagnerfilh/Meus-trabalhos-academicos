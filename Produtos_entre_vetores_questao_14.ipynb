{
  "nbformat": 4,
  "nbformat_minor": 0,
  "metadata": {
    "colab": {
      "provenance": []
    },
    "kernelspec": {
      "name": "python3",
      "display_name": "Python 3"
    },
    "language_info": {
      "name": "python"
    }
  },
  "cells": [
    {
      "cell_type": "markdown",
      "source": [
        "## Dados os vetores a = (1, −1,2), b = (3,4, −2) e c = (−5,1, −4), mostrar que a. (b × c) = (a × b). c"
      ],
      "metadata": {
        "id": "iSv0MlILuuo7"
      }
    },
    {
      "cell_type": "code",
      "source": [
        "import numpy as np"
      ],
      "metadata": {
        "id": "_xe3_gLYurKh"
      },
      "execution_count": null,
      "outputs": []
    },
    {
      "cell_type": "code",
      "execution_count": null,
      "metadata": {
        "colab": {
          "base_uri": "https://localhost:8080/"
        },
        "id": "TCDKxeDIupk-",
        "outputId": "fb5beaf5-482e-4373-9bcf-e6a81afdbe15"
      },
      "outputs": [
        {
          "output_type": "stream",
          "name": "stdout",
          "text": [
            "Digite o valor para o 1 elemento do vetor a: 1\n",
            "Digite o valor para o 2 elemento do vetor a: -1\n",
            "Digite o valor para o 3 elemento do vetor a: 2\n",
            "Digite o valor para o 1 elemento do vetor b: 3\n",
            "Digite o valor para o 2 elemento do vetor b: 4\n",
            "Digite o valor para o 3 elemento do vetor b: -2\n",
            "Digite o valor para o 1 elemento do vetor c: -5\n",
            "Digite o valor para o 2 elemento do vetor c: 1\n",
            "Digite o valor para o 3 elemento do vetor c: -4\n",
            "A igualdade a . (b × c) = (a × b) . c é verdadeira.\n",
            "produto_escalar_a_bc: 10\n",
            "produto_escalar_ab_c: 10\n"
          ]
        }
      ],
      "source": [
        "#Definindo os vetores a, b e c\n",
        "m = [\"a\", \"b\", \"c\"]\n",
        "for j in range(3):\n",
        "  n=[]\n",
        "  for i in range(1, 4):\n",
        "    n.append(int(input(f\"Digite o valor para o {i} elemento do vetor {m[j]}: \")))\n",
        "  if j == 0:\n",
        "      a = np.array(n)\n",
        "  if j == 1:\n",
        "      b = np.array(n)\n",
        "  if j == 2:\n",
        "      c = np.array(n)\n",
        "\n",
        "#Calculando o produto vetorial b × c\n",
        "produto_vetorial_bc = np.cross(b, c)\n",
        "\n",
        "#Calculando o produto escalar a . (b × c)\n",
        "produto_escalar_a_bc = np.dot(a, produto_vetorial_bc)\n",
        "\n",
        "#Calculando o produto vetorial a × b\n",
        "produto_vetorial_ab = np.cross(a, b)\n",
        "\n",
        "#Calculando o produto escalar (a × b) . c\n",
        "produto_escalar_ab_c = np.dot(produto_vetorial_ab, c)\n",
        "\n",
        "#Verificando se as duas partes são iguais\n",
        "if produto_escalar_a_bc == produto_escalar_ab_c:\n",
        "    print(\"A igualdade a . (b × c) = (a × b) . c é verdadeira.\")\n",
        "else:\n",
        "    print(\"A igualdade a . (b × c) = (a × b) . c não é verdadeira.\")\n",
        "\n",
        "#Imprimindo os valores dos produtos escalares\n",
        "print(f\"produto_escalar_a_bc: {produto_escalar_a_bc}\")\n",
        "print(f\"produto_escalar_ab_c: {produto_escalar_ab_c}\")"
      ]
    }
  ]
}