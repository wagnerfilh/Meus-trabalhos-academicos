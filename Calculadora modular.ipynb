{
 "cells": [
  {
   "cell_type": "markdown",
   "metadata": {},
   "source": [
    "#Caluladora Modular"
   ]
  },
  {
   "cell_type": "code",
   "execution_count": null,
   "metadata": {},
   "outputs": [],
   "source": [
    "#Soma:\n",
    "a = int(input(\"Digite o valor de A: \"))\n",
    "b = int(input(\"Digite o valor de B: \"))\n",
    "mod = int(input(\"Digite o valor de mod: \"))\n",
    "print(\"A equação: \",a,\" + \",b, \" mod\",mod) \n",
    "resposta = (a + b) % mod\n",
    "print(\"A resposta:\" , resposta)"
   ]
  },
  {
   "cell_type": "code",
   "execution_count": null,
   "metadata": {},
   "outputs": [],
   "source": [
    "#Subtração:\n",
    "a = int(input(\"Digite o valor de A: \"))\n",
    "b = int(input(\"Digite o valor de B: \"))\n",
    "mod = int(input(\"Digite o valor de mod: \"))\n",
    "print(\"A equação: \",a,\" - \",b, \" mod\",mod) \n",
    "resposta = (a - b) % mod\n",
    "print(\"A resposta:\" , resposta)"
   ]
  },
  {
   "cell_type": "code",
   "execution_count": null,
   "metadata": {},
   "outputs": [],
   "source": [
    "#Multiplicação:\n",
    "a = int(input(\"Digite o valor de A: \"))\n",
    "b = int(input(\"Digite o valor de B: \"))\n",
    "mod = int(input(\"Digite o valor de mod: \"))\n",
    "print(\"A equação: \",a,\" * \",b, \" mod\",mod) \n",
    "resposta = (a * b) % mod\n",
    "print(\"A resposta:\" , resposta)"
   ]
  },
  {
   "cell_type": "code",
   "execution_count": 1,
   "metadata": {},
   "outputs": [
    {
     "name": "stdout",
     "output_type": "stream",
     "text": [
      "A equação:  5  /  80  mod 21\n",
      "A resposta: 4\n"
     ]
    }
   ],
   "source": [
    "#Divisão:\n",
    "a = int(input(\"Digite o valor de A: \"))\n",
    "b = int(input(\"Digite o valor de B: \"))\n",
    "mod = int(input(\"Digite o valor de mod: \"))\n",
    "c = int(0)\n",
    "resultado_da_mult = int()\n",
    "if c < b and resultado_da_mult != 1:\n",
    "    for c in range(mod+1):\n",
    "        resultado_da_mult = (b*c)%mod\n",
    "        if resultado_da_mult == 1:\n",
    "          print(\"A equação: \",a,\" / \",b, \" mod\",mod) \n",
    "          resposta = (a*c) % mod\n",
    "          print(\"A resposta:\" , resposta)\n",
    "          break\n",
    "        elif c == mod:\n",
    "          print(\"Divisão impossível.\")"
   ]
  }
 ],
 "metadata": {
  "interpreter": {
   "hash": "4d0ba724b55d2018fbfb7987ded5eb0d1a56279d59c7ce5aba9b6a49727c017e"
  },
  "kernelspec": {
   "display_name": "Python 3.10.2 64-bit",
   "language": "python",
   "name": "python3"
  },
  "language_info": {
   "codemirror_mode": {
    "name": "ipython",
    "version": 3
   },
   "file_extension": ".py",
   "mimetype": "text/x-python",
   "name": "python",
   "nbconvert_exporter": "python",
   "pygments_lexer": "ipython3",
   "version": "3.10.2"
  },
  "orig_nbformat": 4
 },
 "nbformat": 4,
 "nbformat_minor": 2
}
