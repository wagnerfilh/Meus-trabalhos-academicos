{
  "nbformat": 4,
  "nbformat_minor": 0,
  "metadata": {
    "colab": {
      "provenance": []
    },
    "kernelspec": {
      "name": "python3",
      "display_name": "Python 3"
    },
    "language_info": {
      "name": "python"
    }
  },
  "cells": [
    {
      "cell_type": "markdown",
      "source": [
        "#Sejam os vetores u = (1,1,0), v = (2,0,1), w1 = 3u − 2v, w2 = u + 3v e w3 = i+ j − 2k. Determinar o volume do paralelepípedo definido por w1, w2, w3."
      ],
      "metadata": {
        "id": "Pj87TQbPFKv7"
      }
    },
    {
      "cell_type": "code",
      "source": [
        "import numpy as np"
      ],
      "metadata": {
        "id": "OdUYA2TBE6Hi"
      },
      "execution_count": null,
      "outputs": []
    },
    {
      "cell_type": "code",
      "execution_count": null,
      "metadata": {
        "colab": {
          "base_uri": "https://localhost:8080/"
        },
        "id": "4GiMqipuCXyA",
        "outputId": "c11ed5ad-beab-41c6-9e14-2062b0cee61f"
      },
      "outputs": [
        {
          "output_type": "stream",
          "name": "stdout",
          "text": [
            "Digite o valor para o 1 elemento do vetor u: 1\n",
            "Digite o valor para o 2 elemento do vetor u: 1\n",
            "Digite o valor para o 3 elemento do vetor u: 0\n",
            "Digite o valor para o 1 elemento do vetor v: 2\n",
            "Digite o valor para o 2 elemento do vetor v: 0\n",
            "Digite o valor para o 3 elemento do vetor v: 1\n",
            "O volume do paralelepípedo é: 44.000000000000014\n"
          ]
        }
      ],
      "source": [
        "#Definindo os vetores u, v e w1, w2, w3\n",
        "m = [\"u\", \"v\"]\n",
        "for j in range(2):\n",
        "  n=[]\n",
        "  for i in range(1, 4):\n",
        "    n.append(int(input(f\"Digite o valor para o {i} elemento do vetor {m[j]}: \")))\n",
        "  if j == 0:\n",
        "      u = np.array(n)\n",
        "  if j == 1:\n",
        "      v = np.array(n)\n",
        "i = np.array([1, 0, 0])\n",
        "j = np.array([0, 1, 0])\n",
        "k = np.array([0, 0, 1])\n",
        "w1 = 3 * u - 2 * v\n",
        "w2 = u + 3 * v\n",
        "w3 = i+j-2*k\n",
        "\n",
        "#Calculando o volume do paralelepípedo usando o determinante\n",
        "volume = np.abs(np.linalg.det(np.column_stack((w1, w2, w3))))\n",
        "\n",
        "print(\"O volume do paralelepípedo é:\", volume)"
      ]
    }
  ]
}